{
 "cells": [
  {
   "cell_type": "code",
   "execution_count": 67,
   "metadata": {},
   "outputs": [],
   "source": [
    "from tensorflow.keras.applications.resnet50 import ResNet50, preprocess_input\n",
    "from tensorflow.keras.models import Model\n",
    "from tensorflow.keras.layers import Dense, GlobalAveragePooling2D\n",
    "from tensorflow.keras.preprocessing.image import ImageDataGenerator\n",
    "from tensorflow.keras.optimizers import SGD\n",
    "from scipy import ndimage  "
   ]
  },
  {
   "cell_type": "code",
   "execution_count": 68,
   "metadata": {},
   "outputs": [],
   "source": [
    "# Define the base ResNet50 model\n",
    "base_model = ResNet50(weights='imagenet', include_top=False)"
   ]
  },
  {
   "cell_type": "code",
   "execution_count": 69,
   "metadata": {},
   "outputs": [],
   "source": [
    "# Define the number of classes in your dataset\n",
    "num_classes = 2\n",
    "\n",
    "# Add your custom classification head\n",
    "x = base_model.output\n",
    "x = GlobalAveragePooling2D()(x)\n",
    "x = Dense(512, activation='relu')(x)\n",
    "predictions = Dense(num_classes, activation='softmax')(x)"
   ]
  },
  {
   "cell_type": "code",
   "execution_count": 70,
   "metadata": {},
   "outputs": [],
   "source": [
    "# Create the final model\n",
    "model = Model(inputs=base_model.input, outputs=predictions)"
   ]
  },
  {
   "cell_type": "code",
   "execution_count": 71,
   "metadata": {},
   "outputs": [],
   "source": [
    "# Freeze the layers of the ResNet50 base model\n",
    "for layer in base_model.layers:\n",
    "    layer.trainable = False"
   ]
  },
  {
   "cell_type": "code",
   "execution_count": 72,
   "metadata": {},
   "outputs": [
    {
     "name": "stderr",
     "output_type": "stream",
     "text": [
      "WARNING:absl:`lr` is deprecated in Keras optimizer, please use `learning_rate` or use the legacy optimizer, e.g.,tf.keras.optimizers.legacy.SGD.\n"
     ]
    }
   ],
   "source": [
    "# Compile the model\n",
    "model.compile(optimizer=SGD(lr=0.001, momentum=0.9), loss='categorical_crossentropy', metrics=['accuracy'])\n"
   ]
  },
  {
   "cell_type": "code",
   "execution_count": 73,
   "metadata": {},
   "outputs": [],
   "source": [
    "# Set up data generators\n",
    "train_datagen = ImageDataGenerator(preprocessing_function=preprocess_input)\n",
    "test_datagen = ImageDataGenerator(preprocessing_function=preprocess_input)\n",
    "\n",
    "batch_size=16"
   ]
  },
  {
   "cell_type": "code",
   "execution_count": 74,
   "metadata": {},
   "outputs": [
    {
     "name": "stdout",
     "output_type": "stream",
     "text": [
      "Found 350 images belonging to 2 classes.\n"
     ]
    }
   ],
   "source": [
    "train_generator = train_datagen.flow_from_directory(\n",
    "    './dummy_dataset/train',\n",
    "    target_size=(224, 224),\n",
    "    batch_size=batch_size,\n",
    "    class_mode='categorical'\n",
    ")"
   ]
  },
  {
   "cell_type": "code",
   "execution_count": 75,
   "metadata": {},
   "outputs": [
    {
     "name": "stdout",
     "output_type": "stream",
     "text": [
      "Found 235 images belonging to 2 classes.\n"
     ]
    }
   ],
   "source": [
    "validation_generator = test_datagen.flow_from_directory(\n",
    "    './dummy_dataset/valid',\n",
    "    target_size=(224, 224),\n",
    "    batch_size=batch_size,\n",
    "    class_mode='categorical'\n",
    ")"
   ]
  },
  {
   "cell_type": "code",
   "execution_count": 76,
   "metadata": {},
   "outputs": [
    {
     "name": "stdout",
     "output_type": "stream",
     "text": [
      "Epoch 1/7\n",
      "21/21 [==============================] - 29s 1s/step - loss: 0.0651 - accuracy: 0.9581 - val_loss: 0.0000e+00 - val_accuracy: 1.0000\n",
      "Epoch 2/7\n",
      "21/21 [==============================] - 27s 1s/step - loss: 0.0000e+00 - accuracy: 1.0000 - val_loss: 0.0000e+00 - val_accuracy: 1.0000\n",
      "Epoch 3/7\n",
      "21/21 [==============================] - 26s 1s/step - loss: 0.0000e+00 - accuracy: 1.0000 - val_loss: 0.0000e+00 - val_accuracy: 1.0000\n",
      "Epoch 4/7\n",
      "21/21 [==============================] - 25s 1s/step - loss: 0.0000e+00 - accuracy: 1.0000 - val_loss: 0.0000e+00 - val_accuracy: 1.0000\n",
      "Epoch 5/7\n",
      "21/21 [==============================] - 25s 1s/step - loss: 0.0000e+00 - accuracy: 1.0000 - val_loss: 0.0000e+00 - val_accuracy: 1.0000\n",
      "Epoch 6/7\n",
      "21/21 [==============================] - 24s 1s/step - loss: 0.0000e+00 - accuracy: 1.0000 - val_loss: 0.0000e+00 - val_accuracy: 1.0000\n",
      "Epoch 7/7\n",
      "21/21 [==============================] - 25s 1s/step - loss: 0.0000e+00 - accuracy: 1.0000 - val_loss: 0.0000e+00 - val_accuracy: 1.0000\n"
     ]
    },
    {
     "data": {
      "text/plain": [
       "<keras.src.callbacks.History at 0x139ff40ea50>"
      ]
     },
     "execution_count": 76,
     "metadata": {},
     "output_type": "execute_result"
    }
   ],
   "source": [
    "# Train the model\n",
    "model.fit(\n",
    "    train_generator,\n",
    "    steps_per_epoch=train_generator.samples // batch_size,\n",
    "    epochs=7,\n",
    "    validation_data=validation_generator,\n",
    "    validation_steps=validation_generator.samples // batch_size\n",
    ")"
   ]
  },
  {
   "cell_type": "code",
   "execution_count": 77,
   "metadata": {},
   "outputs": [
    {
     "name": "stderr",
     "output_type": "stream",
     "text": [
      "e:\\vscode\\Weed Detection\\ML\\venv\\Lib\\site-packages\\keras\\src\\engine\\training.py:3103: UserWarning: You are saving your model as an HDF5 file via `model.save()`. This file format is considered legacy. We recommend using instead the native Keras format, e.g. `model.save('my_model.keras')`.\n",
      "  saving_api.save_model(\n"
     ]
    }
   ],
   "source": [
    "# Save the trained model\n",
    "model.save('./models/Resnet50.h5')"
   ]
  },
  {
   "cell_type": "code",
   "execution_count": 78,
   "metadata": {},
   "outputs": [],
   "source": [
    "from tensorflow.keras.models import load_model\n",
    "from tensorflow.keras.preprocessing import image\n",
    "from tensorflow.keras.applications.resnet50 import decode_predictions\n",
    "import numpy as np\n",
    "import os"
   ]
  },
  {
   "cell_type": "code",
   "execution_count": 79,
   "metadata": {},
   "outputs": [],
   "source": [
    "# Load your trained model \n",
    "model = load_model('./models/Resnet50.h5')\n",
    "\n",
    "# Path to the folder containing test images\n",
    "test_folder = './dummy_dataset/test/images'"
   ]
  },
  {
   "cell_type": "code",
   "execution_count": 80,
   "metadata": {},
   "outputs": [],
   "source": [
    "def load_and_preprocess_image(img_path):\n",
    "    img = image.load_img(img_path, target_size=(224, 224))\n",
    "    x = image.img_to_array(img)\n",
    "    x = np.expand_dims(x, axis=0)\n",
    "    x = preprocess_input(x)\n",
    "    return x"
   ]
  },
  {
   "cell_type": "code",
   "execution_count": 81,
   "metadata": {},
   "outputs": [],
   "source": [
    "def predict_with_resnet50(model, img_path):\n",
    "    x = load_and_preprocess_image(img_path)\n",
    "    preds = model.predict(x)\n",
    "    return preds"
   ]
  },
  {
   "cell_type": "code",
   "execution_count": 82,
   "metadata": {},
   "outputs": [
    {
     "name": "stdout",
     "output_type": "stream",
     "text": [
      "1/1 [==============================] - 1s 1s/step\n",
      "Image: 12122_jpg.rf.d7313af9bab0e80b7149ee0a3c32caf8.jpg, Predicted class index: 0\n",
      "1/1 [==============================] - 0s 89ms/step\n",
      "Image: 12198_jpg.rf.a216dcc7b89a168893ccd130a89553ee.jpg, Predicted class index: 0\n",
      "1/1 [==============================] - 0s 103ms/step\n",
      "Image: 12205_jpg.rf.ab3db8b3b513ffeae1e66458ae3b1df9.jpg, Predicted class index: 0\n",
      "1/1 [==============================] - 0s 87ms/step\n",
      "Image: 301_jpg.rf.e0a19ebd17c5738934d155d4747cecba.jpg, Predicted class index: 0\n",
      "1/1 [==============================] - 0s 88ms/step\n",
      "Image: 310_jpg.rf.a94f591dac795f5127eb44adb9887dae.jpg, Predicted class index: 0\n",
      "1/1 [==============================] - 0s 103ms/step\n",
      "Image: 311_jpg.rf.c0ec2f814a7f68cab8d1c06ef9ec24a2.jpg, Predicted class index: 0\n",
      "1/1 [==============================] - 0s 83ms/step\n",
      "Image: 317_jpg.rf.c7f0907204ab5da50ae42cf2336b2444.jpg, Predicted class index: 0\n",
      "1/1 [==============================] - 0s 85ms/step\n",
      "Image: 32179_jpg.rf.9b7e752dea7e074755ddcab02e1778be.jpg, Predicted class index: 0\n",
      "1/1 [==============================] - 0s 92ms/step\n",
      "Image: 32198_jpg.rf.21b61d44bbae489c49aa3e6152b0b606.jpg, Predicted class index: 0\n",
      "1/1 [==============================] - 0s 95ms/step\n",
      "Image: 32215_jpg.rf.a8a307c17df98efe7fc4bc45312626b0.jpg, Predicted class index: 0\n",
      "1/1 [==============================] - 0s 92ms/step\n",
      "Image: 32227_jpg.rf.e3e43b06dcec3f59abae3689b243bc31.jpg, Predicted class index: 0\n",
      "1/1 [==============================] - 0s 99ms/step\n",
      "Image: 32242_jpg.rf.a4620635cc56d2702a572f9d0c80c3e0.jpg, Predicted class index: 0\n",
      "1/1 [==============================] - 0s 98ms/step\n",
      "Image: 32264_jpg.rf.5ed191606674bb044db6c55d26ca3b69.jpg, Predicted class index: 0\n",
      "1/1 [==============================] - 0s 97ms/step\n",
      "Image: 32288_jpg.rf.262788c3f4276945ae977f486d767fff.jpg, Predicted class index: 0\n",
      "1/1 [==============================] - 0s 93ms/step\n",
      "Image: 32331_jpg.rf.07fb45618402497ec545cff4a6f0b94f.jpg, Predicted class index: 0\n",
      "1/1 [==============================] - 0s 94ms/step\n",
      "Image: 32333_jpg.rf.e5bbd392adc00a9cb64cfd18e9238dbb.jpg, Predicted class index: 0\n",
      "1/1 [==============================] - 0s 94ms/step\n",
      "Image: 32338_jpg.rf.5bf9865461d6189a8c3090806e2363b4.jpg, Predicted class index: 0\n",
      "1/1 [==============================] - 0s 100ms/step\n",
      "Image: 32356_jpg.rf.a493fe0fbbb4ac1ad1b72f01bc599b52.jpg, Predicted class index: 0\n",
      "1/1 [==============================] - 0s 97ms/step\n",
      "Image: 32421_jpg.rf.5b8eaaf2a558ba55d0af6ffb324a546e.jpg, Predicted class index: 0\n",
      "1/1 [==============================] - 0s 96ms/step\n",
      "Image: 32429_jpg.rf.22d609ca981966f966a0f8919cafdeb0.jpg, Predicted class index: 0\n",
      "1/1 [==============================] - 0s 93ms/step\n",
      "Image: 32469_jpg.rf.932e846f4301e65383a16365ecf7b78a.jpg, Predicted class index: 0\n",
      "1/1 [==============================] - 0s 90ms/step\n",
      "Image: 32470_jpg.rf.3fa6030410e78c3abc8f87e3e3ec647f.jpg, Predicted class index: 0\n",
      "1/1 [==============================] - 0s 94ms/step\n",
      "Image: 32483_jpg.rf.b5a438c988a8fd2b17991d06a2ba350a.jpg, Predicted class index: 0\n",
      "1/1 [==============================] - 0s 91ms/step\n",
      "Image: 32486_jpg.rf.c4a010bd9faa112caf165817c4614229.jpg, Predicted class index: 0\n",
      "1/1 [==============================] - 0s 92ms/step\n",
      "Image: 32508_jpg.rf.839009ca3bbbe7bfb27b9824ae59c961.jpg, Predicted class index: 0\n",
      "1/1 [==============================] - 0s 94ms/step\n",
      "Image: 32520_jpg.rf.81a97847f9f7ae7d06fa4e52e5d8f305.jpg, Predicted class index: 0\n",
      "1/1 [==============================] - 0s 98ms/step\n",
      "Image: 32547_jpg.rf.ef8c3a7af586dc7817b371cdcc969940.jpg, Predicted class index: 0\n",
      "1/1 [==============================] - 0s 103ms/step\n",
      "Image: 32583_jpg.rf.7de6edfaf3192f7f0fe63385b3710551.jpg, Predicted class index: 0\n",
      "1/1 [==============================] - 0s 109ms/step\n",
      "Image: 32600_jpg.rf.3b8b235845010f1ba3bf54c20eb4982e.jpg, Predicted class index: 0\n",
      "1/1 [==============================] - 0s 118ms/step\n",
      "Image: 32615_jpg.rf.1a73e9041e430ec1782d15784323a86d.jpg, Predicted class index: 0\n",
      "1/1 [==============================] - 0s 128ms/step\n",
      "Image: 32616_jpg.rf.14b64da7d7e9ef36b04c7d12b3a873d6.jpg, Predicted class index: 0\n",
      "1/1 [==============================] - 0s 108ms/step\n",
      "Image: 32626_jpg.rf.f0704111705240ab92bb8a676fea0ec3.jpg, Predicted class index: 0\n",
      "1/1 [==============================] - 0s 118ms/step\n",
      "Image: 32673_jpg.rf.89d88edc3c05e3f31233ab8360ac47f7.jpg, Predicted class index: 0\n",
      "1/1 [==============================] - 0s 106ms/step\n",
      "Image: 32690_jpg.rf.ce35bbf5449ad9c60ba4a45ae2d74a9b.jpg, Predicted class index: 0\n",
      "1/1 [==============================] - 0s 93ms/step\n",
      "Image: 32711_jpg.rf.98f5da71d91086011e43eb84ca34aaee.jpg, Predicted class index: 0\n",
      "1/1 [==============================] - 0s 97ms/step\n",
      "Image: 32746_jpg.rf.8df0d3b767cd8390af6830e5c81f1641.jpg, Predicted class index: 0\n",
      "1/1 [==============================] - 0s 100ms/step\n",
      "Image: 32754_jpg.rf.ab03fe8871a543828e8f03ed8eae9ff3.jpg, Predicted class index: 0\n",
      "1/1 [==============================] - 0s 91ms/step\n",
      "Image: 32757_jpg.rf.602a1d18b252432bacfe0d750395be40.jpg, Predicted class index: 0\n",
      "1/1 [==============================] - 0s 88ms/step\n",
      "Image: 32803_jpg.rf.473444b96352419c7ed1f229bae8de77.jpg, Predicted class index: 0\n",
      "1/1 [==============================] - 0s 95ms/step\n",
      "Image: 32895_jpg.rf.fa75f23f73de4bd8d846ca1d69b8d0f4.jpg, Predicted class index: 0\n",
      "1/1 [==============================] - 0s 93ms/step\n",
      "Image: 32905_jpg.rf.9a4d2184b27041f7560be809339e606a.jpg, Predicted class index: 0\n",
      "1/1 [==============================] - 0s 89ms/step\n",
      "Image: 32918_jpg.rf.63d75d3cbf8b19515789051c49d21dfb.jpg, Predicted class index: 0\n",
      "1/1 [==============================] - 0s 90ms/step\n",
      "Image: 32959_jpg.rf.faa022a1de5afd44320b9f35b9df789e.jpg, Predicted class index: 0\n",
      "1/1 [==============================] - 0s 95ms/step\n",
      "Image: 32961_jpg.rf.1211c54f3cf8aa65d72966f8cc0f2d6f.jpg, Predicted class index: 0\n",
      "1/1 [==============================] - 0s 95ms/step\n",
      "Image: 33035_jpg.rf.3e4348af760ecc9bbae1e89beff0090c.jpg, Predicted class index: 0\n",
      "1/1 [==============================] - 0s 94ms/step\n",
      "Image: 33071_jpg.rf.6dca37e88cc5a5f1f108cb57b6bb003d.jpg, Predicted class index: 0\n",
      "1/1 [==============================] - 0s 89ms/step\n",
      "Image: 33072_jpg.rf.0dc2b226cb5bc4a8a46bfde90d505f9d.jpg, Predicted class index: 0\n",
      "1/1 [==============================] - 0s 94ms/step\n",
      "Image: 33077_jpg.rf.4e86804c1939f16e591bf9d47d8d6a15.jpg, Predicted class index: 0\n",
      "1/1 [==============================] - 0s 90ms/step\n",
      "Image: 33128_jpg.rf.4ed32849f32bfcdbfe29ad92e46d5ed2.jpg, Predicted class index: 0\n",
      "1/1 [==============================] - 0s 92ms/step\n",
      "Image: 33156_jpg.rf.cc3e1bfd91ed5f7ca7b5cb2366eac6d1.jpg, Predicted class index: 0\n",
      "1/1 [==============================] - 0s 98ms/step\n",
      "Image: 33167_jpg.rf.66ade7fb60da709124f45eef07bce78f.jpg, Predicted class index: 0\n",
      "1/1 [==============================] - 0s 95ms/step\n",
      "Image: 33168_jpg.rf.17a895ec541a30ce243a8e8b01a959d1.jpg, Predicted class index: 0\n",
      "1/1 [==============================] - 0s 90ms/step\n",
      "Image: 33183_jpg.rf.3bde4307e416bef1da8540112b617057.jpg, Predicted class index: 0\n",
      "1/1 [==============================] - 0s 90ms/step\n",
      "Image: 33198_jpg.rf.0663d3bd42c72415c8344b7aafb02802.jpg, Predicted class index: 0\n",
      "1/1 [==============================] - 0s 95ms/step\n",
      "Image: 33220_jpg.rf.0dc2a9a43d47fec14511a7fb596781d4.jpg, Predicted class index: 0\n",
      "1/1 [==============================] - 0s 101ms/step\n",
      "Image: 33297_jpg.rf.bae61a9099efba510b082164480abfad.jpg, Predicted class index: 0\n",
      "1/1 [==============================] - 0s 100ms/step\n",
      "Image: 33299_jpg.rf.43a96296549c850a088629f9add8b7f5.jpg, Predicted class index: 0\n",
      "1/1 [==============================] - 0s 101ms/step\n",
      "Image: 33472_jpg.rf.79f3363fecbb39344e49f685b10f9df3.jpg, Predicted class index: 0\n",
      "1/1 [==============================] - 0s 95ms/step\n",
      "Image: 33508_jpg.rf.b0403dae83ce9d876783111d14f45a5c.jpg, Predicted class index: 0\n",
      "1/1 [==============================] - 0s 96ms/step\n",
      "Image: 33637_jpg.rf.02de552283ddd702dbadc6d3792b46a3.jpg, Predicted class index: 0\n",
      "1/1 [==============================] - 0s 112ms/step\n",
      "Image: 33638_jpg.rf.62960f3c72699de261b14c9c774a95ad.jpg, Predicted class index: 0\n",
      "1/1 [==============================] - 0s 98ms/step\n",
      "Image: 33649_jpg.rf.d14f945f52bdb78f65038d0c45150e93.jpg, Predicted class index: 0\n",
      "1/1 [==============================] - 0s 103ms/step\n",
      "Image: 33668_jpg.rf.c0c12a420b7652fb69c9d247b705af2f.jpg, Predicted class index: 0\n",
      "1/1 [==============================] - 0s 98ms/step\n",
      "Image: 34007_jpg.rf.a5f57ce893faf890604dbdbf88b0e319.jpg, Predicted class index: 0\n",
      "1/1 [==============================] - 0s 105ms/step\n",
      "Image: 34008_jpg.rf.d6a18da6623fc801c5b64969ea382311.jpg, Predicted class index: 0\n",
      "1/1 [==============================] - 0s 106ms/step\n",
      "Image: 34016_jpg.rf.f994919c7450b5f3d80aab83a6d99e13.jpg, Predicted class index: 0\n",
      "1/1 [==============================] - 0s 102ms/step\n",
      "Image: 34018_jpg.rf.cd2b4eb66d1f70aa2bd20fd98643fa15.jpg, Predicted class index: 0\n",
      "1/1 [==============================] - 0s 94ms/step\n",
      "Image: 34019_jpg.rf.6f011d82fa669a46a3e1940b7ea799ed.jpg, Predicted class index: 0\n",
      "1/1 [==============================] - 0s 85ms/step\n",
      "Image: 34026_jpg.rf.f4585de44cffe4560054f0113cb3b1a2.jpg, Predicted class index: 0\n",
      "1/1 [==============================] - 0s 81ms/step\n",
      "Image: 34036_jpg.rf.be6eb4ecca9faeb2b365e64d8707f5da.jpg, Predicted class index: 0\n",
      "1/1 [==============================] - 0s 84ms/step\n",
      "Image: 34054_jpg.rf.b9dacf4345076b57c8b878f05478d251.jpg, Predicted class index: 0\n",
      "1/1 [==============================] - 0s 81ms/step\n",
      "Image: 34055_jpg.rf.f688ebc53a77973dfe9b02259a1ea0f3.jpg, Predicted class index: 0\n",
      "1/1 [==============================] - 0s 86ms/step\n",
      "Image: 34073_jpg.rf.06423309d04665253153f229b2538d2b.jpg, Predicted class index: 0\n",
      "1/1 [==============================] - 0s 86ms/step\n",
      "Image: 34075_jpg.rf.1ef63010ac042d1ef9eca1a72cb5f17d.jpg, Predicted class index: 0\n",
      "1/1 [==============================] - 0s 85ms/step\n",
      "Image: 34088_jpg.rf.6809ff38ca006d5d21447ac388fcd35b.jpg, Predicted class index: 0\n",
      "1/1 [==============================] - 0s 89ms/step\n",
      "Image: 34112_jpg.rf.d83669ed8a901621a5f1c36ebb537d63.jpg, Predicted class index: 0\n",
      "1/1 [==============================] - 0s 93ms/step\n",
      "Image: 34118_jpg.rf.7c13118e78769bbd1e4d20370f318362.jpg, Predicted class index: 0\n",
      "1/1 [==============================] - 0s 86ms/step\n",
      "Image: 34132_jpg.rf.ca9a55e5ed6857be80d1cb3e40f010ad.jpg, Predicted class index: 0\n",
      "1/1 [==============================] - 0s 94ms/step\n",
      "Image: 34134_jpg.rf.5c041d19d3a247886ce1335207db7c59.jpg, Predicted class index: 0\n",
      "1/1 [==============================] - 0s 101ms/step\n",
      "Image: 34251_jpg.rf.467e3ef90862d9a0449fbaef6258ac89.jpg, Predicted class index: 0\n",
      "1/1 [==============================] - 0s 115ms/step\n",
      "Image: 34263_jpg.rf.7e1bc33998571b4c5fc35f889fca1a80.jpg, Predicted class index: 0\n",
      "1/1 [==============================] - 0s 96ms/step\n",
      "Image: 34266_jpg.rf.0e597928cebf60f0eb300a3cc0137acc.jpg, Predicted class index: 0\n",
      "1/1 [==============================] - 0s 93ms/step\n",
      "Image: 34295_jpg.rf.66488fd31588999f3aff786e35dac313.jpg, Predicted class index: 0\n",
      "1/1 [==============================] - 0s 86ms/step\n",
      "Image: 34298_jpg.rf.a63bd432888f4f3e28fa1b00c68cfc5a.jpg, Predicted class index: 0\n",
      "1/1 [==============================] - 0s 83ms/step\n",
      "Image: 34300_jpg.rf.75abdd0fffe875aed73c1ccb9934c019.jpg, Predicted class index: 0\n",
      "1/1 [==============================] - 0s 89ms/step\n",
      "Image: 34303_jpg.rf.2369296db06bf6325bc616f0101d8cb4.jpg, Predicted class index: 0\n",
      "1/1 [==============================] - 0s 87ms/step\n",
      "Image: 34319_jpg.rf.4537646c37130b3361e48d5b7eb04b2d.jpg, Predicted class index: 0\n",
      "1/1 [==============================] - 0s 86ms/step\n",
      "Image: 37027_jpg.rf.4d832cd90d4d461ca7141363cc4e59d6.jpg, Predicted class index: 0\n",
      "1/1 [==============================] - 0s 85ms/step\n",
      "Image: 37103_jpg.rf.5b294e31e62df7977da63e10d5edc2bd.jpg, Predicted class index: 0\n",
      "1/1 [==============================] - 0s 86ms/step\n",
      "Image: 38316_jpg.rf.06a4c074499f5b22114948b18f007a00.jpg, Predicted class index: 0\n",
      "1/1 [==============================] - 0s 82ms/step\n",
      "Image: 38441_jpg.rf.7e7d96e91ce85b9a49da1e1e738e49db.jpg, Predicted class index: 0\n",
      "1/1 [==============================] - 0s 86ms/step\n",
      "Image: IMG_5915_JPG.rf.095608f6993ac98a984d812b7d981f90.jpg, Predicted class index: 0\n",
      "1/1 [==============================] - 0s 88ms/step\n",
      "Image: IMG_5920_JPG.rf.d7a770713947e81a53e20d72a5ba04b2.jpg, Predicted class index: 0\n",
      "1/1 [==============================] - 0s 90ms/step\n",
      "Image: IMG_5932_JPG.rf.c45f59002340b1a7b56dbed134ebf5a7.jpg, Predicted class index: 0\n",
      "1/1 [==============================] - 0s 85ms/step\n",
      "Image: IMG_5936_JPG.rf.ea6b76fcdccebf340619a3166945b58d.jpg, Predicted class index: 0\n",
      "1/1 [==============================] - 0s 83ms/step\n",
      "Image: IMG_5949_JPG.rf.415d64b877765e8f2c7a0774df004066.jpg, Predicted class index: 0\n",
      "1/1 [==============================] - 0s 83ms/step\n",
      "Image: IMG_5953_JPG.rf.81f53b4070b3882e18189b43158fa1aa.jpg, Predicted class index: 0\n",
      "1/1 [==============================] - 0s 83ms/step\n",
      "Image: IMG_5954_JPG.rf.7382805d4e306f011b70b56a7070a1dd.jpg, Predicted class index: 0\n",
      "1/1 [==============================] - 0s 83ms/step\n",
      "Image: IMG_5960_JPG.rf.390b3f75e60450632c3d87f33af608fd.jpg, Predicted class index: 0\n",
      "1/1 [==============================] - 0s 85ms/step\n",
      "Image: IMG_5974_JPG.rf.d0aa40e2b53291f9dbb1bd4f1f6366c5.jpg, Predicted class index: 0\n",
      "1/1 [==============================] - 0s 90ms/step\n",
      "Image: IMG_5994_JPG.rf.da9637b067367f157300eaf99a889119.jpg, Predicted class index: 0\n",
      "1/1 [==============================] - 0s 84ms/step\n",
      "Image: IMG_6002_JPG.rf.8572cc236f140e4e1a179544863bd72f.jpg, Predicted class index: 0\n",
      "1/1 [==============================] - 0s 89ms/step\n",
      "Image: IMG_6009_JPG.rf.10cd208be79d9f3b811f2ea7e9a804b0.jpg, Predicted class index: 0\n",
      "1/1 [==============================] - 0s 90ms/step\n",
      "Image: IMG_6029_JPG.rf.0c338eef3f3cbf1f1c28384ac6e61d47.jpg, Predicted class index: 0\n",
      "1/1 [==============================] - 0s 85ms/step\n",
      "Image: IMG_6085_JPG.rf.563e5c49e19ee09ce7ca6b71aafabdeb.jpg, Predicted class index: 0\n",
      "1/1 [==============================] - 0s 81ms/step\n",
      "Image: IMG_6101_JPG.rf.91af8da7a0d0b21cbacb4efe3b55d707.jpg, Predicted class index: 0\n",
      "1/1 [==============================] - 0s 84ms/step\n",
      "Image: IMG_6130_JPG.rf.c6238cee24f658207af8188e2e78daf0.jpg, Predicted class index: 0\n",
      "1/1 [==============================] - 0s 82ms/step\n",
      "Image: IMG_6136_JPG.rf.660194dbd4186904e9f18afef31e4b87.jpg, Predicted class index: 0\n",
      "1/1 [==============================] - 0s 87ms/step\n",
      "Image: IMG_6155_JPG.rf.c918b36211023f79d605d3178d912b69.jpg, Predicted class index: 0\n",
      "1/1 [==============================] - 0s 90ms/step\n",
      "Image: IMG_6159_JPG.rf.8e6cf040439354f778f98045930f188b.jpg, Predicted class index: 0\n",
      "1/1 [==============================] - 0s 85ms/step\n",
      "Image: IMG_6167_JPG.rf.bec2a8e882a5db1b83c9e20926300688.jpg, Predicted class index: 0\n",
      "1/1 [==============================] - 0s 81ms/step\n",
      "Image: IMG_6173_JPG.rf.223d162e82ce123a18a96e16fdabf827.jpg, Predicted class index: 0\n",
      "1/1 [==============================] - 0s 80ms/step\n",
      "Image: IMG_6175_JPG.rf.7aa4d9d1099520875c8a7c79a71de110.jpg, Predicted class index: 0\n",
      "1/1 [==============================] - 0s 82ms/step\n",
      "Image: IMG_6185_JPG.rf.45a7591482d406fe61e3e2c59ca6dab3.jpg, Predicted class index: 0\n",
      "1/1 [==============================] - 0s 80ms/step\n",
      "Image: IMG_6194_JPG.rf.079bd7bedc42b439c582931990d6e96c.jpg, Predicted class index: 0\n",
      "1/1 [==============================] - 0s 99ms/step\n",
      "Image: IMG_6195_JPG.rf.c4db118daf454001530ccea26cb7c6f7.jpg, Predicted class index: 0\n",
      "1/1 [==============================] - 0s 85ms/step\n",
      "Image: IMG_6198_JPG.rf.879f46dd3db8a520cd8d4143e4342ef4.jpg, Predicted class index: 0\n",
      "1/1 [==============================] - 0s 94ms/step\n",
      "Image: IMG_6203_JPG.rf.599441586f18429908bab6da4bf4827e.jpg, Predicted class index: 0\n"
     ]
    }
   ],
   "source": [
    "for filename in os.listdir(test_folder):\n",
    "   \n",
    "    img_path = os.path.join(test_folder, filename)\n",
    "    predictions = predict_with_resnet50(model, img_path)\n",
    "        \n",
    "    # Get the index with the maximum probability\n",
    "    predicted_class_index = np.argmax(predictions)\n",
    "\n",
    "    print(f\"Image: {filename}, Predicted class index: {predicted_class_index}\")"
   ]
  },
  {
   "cell_type": "code",
   "execution_count": null,
   "metadata": {},
   "outputs": [],
   "source": []
  }
 ],
 "metadata": {
  "kernelspec": {
   "display_name": "venv",
   "language": "python",
   "name": "python3"
  },
  "language_info": {
   "codemirror_mode": {
    "name": "ipython",
    "version": 3
   },
   "file_extension": ".py",
   "mimetype": "text/x-python",
   "name": "python",
   "nbconvert_exporter": "python",
   "pygments_lexer": "ipython3",
   "version": "3.11.6"
  }
 },
 "nbformat": 4,
 "nbformat_minor": 2
}
